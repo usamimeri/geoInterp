{
 "cells": [
  {
   "cell_type": "code",
   "execution_count": 2,
   "metadata": {},
   "outputs": [
    {
     "data": {
      "text/html": [
       "<div>\n",
       "<style scoped>\n",
       "    .dataframe tbody tr th:only-of-type {\n",
       "        vertical-align: middle;\n",
       "    }\n",
       "\n",
       "    .dataframe tbody tr th {\n",
       "        vertical-align: top;\n",
       "    }\n",
       "\n",
       "    .dataframe thead th {\n",
       "        text-align: right;\n",
       "    }\n",
       "</style>\n",
       "<table border=\"1\" class=\"dataframe\">\n",
       "  <thead>\n",
       "    <tr style=\"text-align: right;\">\n",
       "      <th></th>\n",
       "      <th>lat</th>\n",
       "      <th>lon</th>\n",
       "      <th>elev</th>\n",
       "      <th>obs</th>\n",
       "      <th>CMORPH</th>\n",
       "    </tr>\n",
       "  </thead>\n",
       "  <tbody>\n",
       "    <tr>\n",
       "      <th>0</th>\n",
       "      <td>-34.432</td>\n",
       "      <td>172.682</td>\n",
       "      <td>214</td>\n",
       "      <td>0.0</td>\n",
       "      <td>0.000000</td>\n",
       "    </tr>\n",
       "    <tr>\n",
       "      <th>1</th>\n",
       "      <td>-34.572</td>\n",
       "      <td>172.893</td>\n",
       "      <td>55</td>\n",
       "      <td>0.0</td>\n",
       "      <td>0.000000</td>\n",
       "    </tr>\n",
       "    <tr>\n",
       "      <th>2</th>\n",
       "      <td>-34.950</td>\n",
       "      <td>173.195</td>\n",
       "      <td>30</td>\n",
       "      <td>6.5</td>\n",
       "      <td>0.000000</td>\n",
       "    </tr>\n",
       "    <tr>\n",
       "      <th>3</th>\n",
       "      <td>-34.936</td>\n",
       "      <td>173.215</td>\n",
       "      <td>18</td>\n",
       "      <td>2.7</td>\n",
       "      <td>0.000000</td>\n",
       "    </tr>\n",
       "    <tr>\n",
       "      <th>4</th>\n",
       "      <td>-35.057</td>\n",
       "      <td>173.740</td>\n",
       "      <td>25</td>\n",
       "      <td>0.0</td>\n",
       "      <td>0.075000</td>\n",
       "    </tr>\n",
       "    <tr>\n",
       "      <th>...</th>\n",
       "      <td>...</td>\n",
       "      <td>...</td>\n",
       "      <td>...</td>\n",
       "      <td>...</td>\n",
       "      <td>...</td>\n",
       "    </tr>\n",
       "    <tr>\n",
       "      <th>644</th>\n",
       "      <td>-38.618</td>\n",
       "      <td>176.874</td>\n",
       "      <td>701</td>\n",
       "      <td>27.2</td>\n",
       "      <td>43.649901</td>\n",
       "    </tr>\n",
       "    <tr>\n",
       "      <th>645</th>\n",
       "      <td>-41.808</td>\n",
       "      <td>172.842</td>\n",
       "      <td>634</td>\n",
       "      <td>0.0</td>\n",
       "      <td>0.281250</td>\n",
       "    </tr>\n",
       "    <tr>\n",
       "      <th>646</th>\n",
       "      <td>-42.367</td>\n",
       "      <td>171.413</td>\n",
       "      <td>35</td>\n",
       "      <td>0.0</td>\n",
       "      <td>0.025000</td>\n",
       "    </tr>\n",
       "    <tr>\n",
       "      <th>647</th>\n",
       "      <td>-41.102</td>\n",
       "      <td>174.063</td>\n",
       "      <td>41</td>\n",
       "      <td>20.5</td>\n",
       "      <td>0.699990</td>\n",
       "    </tr>\n",
       "    <tr>\n",
       "      <th>648</th>\n",
       "      <td>-39.122</td>\n",
       "      <td>174.083</td>\n",
       "      <td>160</td>\n",
       "      <td>0.0</td>\n",
       "      <td>2.999991</td>\n",
       "    </tr>\n",
       "  </tbody>\n",
       "</table>\n",
       "<p>649 rows × 5 columns</p>\n",
       "</div>"
      ],
      "text/plain": [
       "        lat      lon  elev   obs     CMORPH\n",
       "0   -34.432  172.682   214   0.0   0.000000\n",
       "1   -34.572  172.893    55   0.0   0.000000\n",
       "2   -34.950  173.195    30   6.5   0.000000\n",
       "3   -34.936  173.215    18   2.7   0.000000\n",
       "4   -35.057  173.740    25   0.0   0.075000\n",
       "..      ...      ...   ...   ...        ...\n",
       "644 -38.618  176.874   701  27.2  43.649901\n",
       "645 -41.808  172.842   634   0.0   0.281250\n",
       "646 -42.367  171.413    35   0.0   0.025000\n",
       "647 -41.102  174.063    41  20.5   0.699990\n",
       "648 -39.122  174.083   160   0.0   2.999991\n",
       "\n",
       "[649 rows x 5 columns]"
      ]
     },
     "execution_count": 2,
     "metadata": {},
     "output_type": "execute_result"
    }
   ],
   "source": [
    "from utils import read_new_zealand_data\n",
    "read_new_zealand_data(\"dataset/raw/20070101.dat\",'all')"
   ]
  },
  {
   "cell_type": "code",
   "execution_count": 7,
   "metadata": {},
   "outputs": [],
   "source": []
  },
  {
   "cell_type": "code",
   "execution_count": 10,
   "metadata": {},
   "outputs": [
    {
     "data": {
      "text/plain": [
       "SparseObsDataset(5480)"
      ]
     },
     "execution_count": 10,
     "metadata": {},
     "output_type": "execute_result"
    }
   ],
   "source": [
    "from graph_datasets import RandomLeaveOneOutDataset,SparseObsDataset\n",
    "dataset=SparseObsDataset(\"dataset\",\"sparse_south\",\"south\")\n",
    "dataset"
   ]
  },
  {
   "cell_type": "code",
   "execution_count": 47,
   "metadata": {},
   "outputs": [],
   "source": [
    "data=dataset[9]"
   ]
  },
  {
   "cell_type": "code",
   "execution_count": 59,
   "metadata": {},
   "outputs": [],
   "source": [
    "from trainer import GNNTrainer,StatisticInterpTrainer\n",
    "lis=[]\n",
    "for i in range(10):\n",
    "    trainer=GNNTrainer(\"AGAIN\",max_epochs=1000)\n",
    "    lis.append(trainer.calculate(data)[0])"
   ]
  },
  {
   "cell_type": "code",
   "execution_count": 60,
   "metadata": {},
   "outputs": [
    {
     "data": {
      "text/plain": [
       "1.9095701217651366"
      ]
     },
     "execution_count": 60,
     "metadata": {},
     "output_type": "execute_result"
    }
   ],
   "source": [
    "sum(lis)/len(lis)"
   ]
  },
  {
   "cell_type": "code",
   "execution_count": 61,
   "metadata": {},
   "outputs": [
    {
     "data": {
      "text/plain": [
       "(1.7632058049071935,\n",
       "      test_index        lat         lon  obs      pred\n",
       " 0            23 -43.394001  170.181000  2.4  0.000000\n",
       " 1            94 -43.609001  171.733002  3.2  3.223384\n",
       " 2            72 -42.921001  172.429993  0.0  1.428062\n",
       " 3           143 -44.741001  171.035995  0.0  0.505069\n",
       " 4           200 -45.189999  169.311005  0.0  0.303229\n",
       " ..          ...        ...         ...  ...       ...\n",
       " 152         107 -43.474998  171.992004  1.9  2.405151\n",
       " 153          60 -42.071999  173.945007  0.0  1.334200\n",
       " 154          38 -41.359001  173.261002  1.9  6.171636\n",
       " 155         253 -45.901001  170.514999  0.8  4.340107\n",
       " 156         282 -46.183998  169.462997  1.2  1.470271\n",
       " \n",
       " [157 rows x 5 columns])"
      ]
     },
     "execution_count": 61,
     "metadata": {},
     "output_type": "execute_result"
    }
   ],
   "source": [
    "from models.interpolators import ADW\n",
    "trainer=StatisticInterpTrainer(ADW(n_neighbors=20, cdd=60, m=4))\n",
    "trainer.calculate(data)"
   ]
  },
  {
   "cell_type": "code",
   "execution_count": null,
   "metadata": {},
   "outputs": [],
   "source": []
  }
 ],
 "metadata": {
  "kernelspec": {
   "display_name": "base",
   "language": "python",
   "name": "python3"
  },
  "language_info": {
   "codemirror_mode": {
    "name": "ipython",
    "version": 3
   },
   "file_extension": ".py",
   "mimetype": "text/x-python",
   "name": "python",
   "nbconvert_exporter": "python",
   "pygments_lexer": "ipython3",
   "version": "3.9.13"
  }
 },
 "nbformat": 4,
 "nbformat_minor": 2
}
